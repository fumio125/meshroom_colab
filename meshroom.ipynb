{
  "nbformat": 4,
  "nbformat_minor": 0,
  "metadata": {
    "colab": {
      "provenance": [],
      "gpuType": "T4",
      "mount_file_id": "19Qw12kAjU13ALB2RCZc0EG3xUdtEV6k1",
      "authorship_tag": "ABX9TyN8DlYExHorh4gnumfbf8hQ",
      "include_colab_link": true
    },
    "kernelspec": {
      "name": "python3",
      "display_name": "Python 3"
    },
    "language_info": {
      "name": "python"
    },
    "accelerator": "GPU"
  },
  "cells": [
    {
      "cell_type": "markdown",
      "metadata": {
        "id": "view-in-github",
        "colab_type": "text"
      },
      "source": [
        "<a href=\"https://colab.research.google.com/github/fumio125/meshroom_colab/blob/main/meshroom.ipynb\" target=\"_parent\"><img src=\"https://colab.research.google.com/assets/colab-badge.svg\" alt=\"Open In Colab\"/></a>"
      ]
    },
    {
      "cell_type": "markdown",
      "source": [
        "# Meshroom on Google Colab\n",
        "\n",
        "参考：「他人のGPUで\"大規模\"フォトグラメトリしたい！！」\n",
        "https://qiita.com/kotauchisunsun/items/5777c94faabdef1523c9\n",
        "\n",
        "\n",
        "**注意：実行前に、GPUランタイムに接続していることを確認してください。**\n",
        "\n",
        "無料版Colabは、GPUランタイムの接続可能時間に制限があります。これを超えたら、`n`時間くらい待ってから再挑戦してください。`n`はサーバの込み具合により変わるらしいですが、一説によると12～24時間くらいらしいです。\n",
        "\n",
        "無料枠を超えないために、入力画像数を数十枚程度に抑えるのが良いでしょう（方法1-1を使う場合は除く）。"
      ],
      "metadata": {
        "id": "nV7XTqHVtmiq"
      }
    },
    {
      "cell_type": "markdown",
      "source": [
        "## 1. Google Drive を使う版\n",
        "1. Google Driveの「マイドライブ」直下に「meshroom」というフォルダを作る\n",
        "2. フォルダ「meshroom」の下に「images」というフォルダを作り、その中に入力画像を入れる\n",
        "3. 以下いずれかのセルを実行してしばし待つ（時間がかかりそうな場合はたまにアクセスする）\n",
        "4. meshroom/results以下に結果が出力される"
      ],
      "metadata": {
        "id": "t9YUUWIqth5F"
      }
    },
    {
      "cell_type": "markdown",
      "source": [
        "### 1-1. Google Drive に数GB以上の余裕がある場合\n",
        "Google Colabの制約で途中でランタイムが落ちても、次のセルを起動すれば途中からやりなおせます"
      ],
      "metadata": {
        "id": "2aoJYw2x-thG"
      }
    },
    {
      "cell_type": "code",
      "source": [
        "from google.colab import drive\n",
        "drive.mount('/content/drive')\n",
        "\n",
        "!pwd\n",
        "!wget https://github.com/alicevision/Meshroom/releases/download/v2021.1.0/Meshroom-2021.1.0-linux-cuda10.tar.gz\n",
        "!mkdir \"./meshroom_exe\"\n",
        "!tar xf \"./Meshroom-2021.1.0-linux-cuda10.tar.gz\" -C \"./meshroom_exe\" --strip-components 1\n",
        "\n",
        "!mkdir \"drive/MyDrive/meshroom/result\"\n",
        "!mkdir \"drive/MyDrive/meshroom/log\"\n",
        "\n",
        "!./meshroom_exe/meshroom_batch \\\n",
        "    --input \"/content/drive/MyDrive/meshroom/images\" \\\n",
        "    --output \"/content/drive/MyDrive/meshroom/result\" \\\n",
        "    --cache \"/content/drive/MyDrive/meshroom/cache\" \\\n",
        "    --forceStatus \\\n",
        "    | tee \"/content/drive/MyDrive/meshroom/log/\"`date '+%Y%m%d%H%M%S'`\".log\"\n",
        "\n",
        "!rm -rf \"drive/MyDrive/meshroom/cache\""
      ],
      "metadata": {
        "id": "rCnEiT8E621I"
      },
      "execution_count": null,
      "outputs": []
    },
    {
      "cell_type": "markdown",
      "source": [
        "### 1-2. Google Drive の容量に余裕がない場合\n",
        "Google Colabの制約で途中でランタイムが落ちたら、最初からやり直しになります"
      ],
      "metadata": {
        "id": "oZ6rfjW2-z7v"
      }
    },
    {
      "cell_type": "code",
      "source": [
        "from google.colab import drive\n",
        "drive.mount('/content/drive')\n",
        "\n",
        "!pwd\n",
        "!wget https://github.com/alicevision/Meshroom/releases/download/v2021.1.0/Meshroom-2021.1.0-linux-cuda10.tar.gz\n",
        "!mkdir \"./meshroom_exe\"\n",
        "!tar xf \"./Meshroom-2021.1.0-linux-cuda10.tar.gz\" -C \"./meshroom_exe\" --strip-components 1\n",
        "\n",
        "!mkdir \"drive/MyDrive/meshroom/result\"\n",
        "!mkdir \"drive/MyDrive/meshroom/log\"\n",
        "\n",
        "!./meshroom_exe/meshroom_batch \\\n",
        "    --input \"/content/drive/MyDrive/meshroom/images\" \\\n",
        "    --output \"/content/drive/MyDrive/meshroom/result\" \\\n",
        "    --forceStatus \\\n",
        "    | tee \"/content/drive/MyDrive/meshroom/log/\"`date '+%Y%m%d%H%M%S'`\".log\"\n"
      ],
      "metadata": {
        "id": "W2aoqnUutyvS"
      },
      "execution_count": null,
      "outputs": []
    },
    {
      "cell_type": "markdown",
      "source": [
        "## 2. Google drive を使わない版\n",
        "1. 左にあるフォルダマークを押し、右クリック→「images」というフォルダを作る\n",
        "2. フォルダ「images」の中に入力画像を入れる\n",
        "  * フォルダを選択してからアップロードアイコンをクリック　または\n",
        "  * フォルダにドラッグアンドドロップ\n",
        "3. 次のセルを実行してしばし待つ（時間がかかりそうな場合はたまにアクセスする）\n",
        "4. 「results」以下に結果が出力されるので、右クリック→ダウンロード\n"
      ],
      "metadata": {
        "id": "SiCy6lQotrPK"
      }
    },
    {
      "cell_type": "code",
      "source": [
        "# Google Colabの制約で途中でランタイムが落ちたら、最初からやり直しになります\n",
        "# ランタイムとともに結果も消えるので、計算が終わったらすぐに結果をダウンロードしてください\n",
        "\n",
        "!pwd\n",
        "!wget https://github.com/alicevision/Meshroom/releases/download/v2021.1.0/Meshroom-2021.1.0-linux-cuda10.tar.gz\n",
        "!mkdir \"./meshroom_exe\"\n",
        "!tar xf \"./Meshroom-2021.1.0-linux-cuda10.tar.gz\" -C \"./meshroom_exe\" --strip-components 1\n",
        "\n",
        "!mkdir \"./result\"\n",
        "!mkdir \"./log\"\n",
        "\n",
        "!./meshroom_exe/meshroom_batch \\\n",
        "    --input \"./images\" \\\n",
        "    --output \"./result\" \\\n",
        "    --forceStatus \\\n",
        "    | tee \"./log/\"`date '+%Y%m%d%H%M%S'`\".log\"\n"
      ],
      "metadata": {
        "id": "IrYDdr48q0Hf"
      },
      "execution_count": null,
      "outputs": []
    },
    {
      "cell_type": "markdown",
      "source": [
        "## 復元が終わったら\n",
        "出来上がった.objファイルをMeshLabで読み込んで眺めましょう。\n",
        "\n",
        "https://www.meshlab.net/"
      ],
      "metadata": {
        "id": "XuyKCuavuAcK"
      }
    },
    {
      "cell_type": "markdown",
      "source": [
        "## Tips\n",
        "\n",
        "* 「たまにアクセスする」ためのバッチファイル\n",
        "\n",
        "  * https://qiita.com/kotauchisunsun/items/5777c94faabdef1523c9 のものを改変。\n",
        "  * Windows用、64 bit Google Chrome用です。拡張子\"bat\"で保存してください。\n",
        "  * 起動後、colabファイルのURL（```https://colab.research.google.com/drive/...```）を入力してください。\n",
        "\n",
        "\n",
        "```\n",
        "echo off\n",
        "set /P URL=\"Copy-and-paste Google Colab URL: \"\n",
        ":LOOP\n",
        "    \"C:\\Program Files\\Google\\Chrome\\Application\\chrome.exe\" %URL%\n",
        "    timeout 3600\n",
        "goto :LOOP\n",
        "\n",
        "```\n"
      ],
      "metadata": {
        "id": "4DBCMPwx_JmM"
      }
    },
    {
      "cell_type": "markdown",
      "source": [
        "\n",
        "## 既知の問題\n",
        "\n",
        "* 最新版（Meshroom 2023.2.0）はバッチ出力のテクスチャがデフォルトでexr形式になる。\n",
        "  * exrのテクスチャはMeshLabで読み込めないので、オプションを変えてpngか何かで出力したいものの、コマンドライン上でテクスチャ形式の指定方法がわからないので過去のバージョンを使っています。\n",
        "  * Blenderで眺めるならexrテクスチャでもOK\n"
      ],
      "metadata": {
        "id": "51SwlGBS_NBF"
      }
    },
    {
      "cell_type": "code",
      "source": [],
      "metadata": {
        "id": "CYLS_yboxOFB"
      },
      "execution_count": null,
      "outputs": []
    }
  ]
}